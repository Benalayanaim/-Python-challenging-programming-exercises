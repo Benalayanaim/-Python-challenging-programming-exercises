{
  "nbformat": 4,
  "nbformat_minor": 0,
  "metadata": {
    "colab": {
      "provenance": [],
      "authorship_tag": "ABX9TyMAH9/jYDwvH6LvPVxW8EUe",
      "include_colab_link": true
    },
    "kernelspec": {
      "name": "python3",
      "display_name": "Python 3"
    },
    "language_info": {
      "name": "python"
    }
  },
  "cells": [
    {
      "cell_type": "markdown",
      "metadata": {
        "id": "view-in-github",
        "colab_type": "text"
      },
      "source": [
        "<a href=\"https://colab.research.google.com/github/Benalayanaim/-Python-challenging-programming-exercises/blob/main/100_Problem_Solving_with_Python.ipynb\" target=\"_parent\"><img src=\"https://colab.research.google.com/assets/colab-badge.svg\" alt=\"Open In Colab\"/></a>"
      ]
    },
    {
      "cell_type": "markdown",
      "source": [
        "# Write a python program that takes a name and returns a greeting in the form of a string\n"
      ],
      "metadata": {
        "id": "gNbD_CaS5xL1"
      }
    },
    {
      "cell_type": "code",
      "source": [
        "#Solution1\n",
        "def hello_there(name):\n",
        "\n",
        "  return \"Hello {}!\".format(name)\n",
        "\n",
        "hello_there('Tamer')"
      ],
      "metadata": {
        "colab": {
          "base_uri": "https://localhost:8080/",
          "height": 36
        },
        "id": "4HB5_nis4ZiM",
        "outputId": "37cebdbc-7c88-4b9b-c13b-b0527333b58c"
      },
      "execution_count": null,
      "outputs": [
        {
          "output_type": "execute_result",
          "data": {
            "text/plain": [
              "'Hello Tamer!'"
            ],
            "application/vnd.google.colaboratory.intrinsic+json": {
              "type": "string"
            }
          },
          "metadata": {},
          "execution_count": 2
        }
      ]
    },
    {
      "cell_type": "code",
      "source": [
        "#Solution2\n",
        "def greet(name):\n",
        "    return f\"Hello, {name}! Welcome!\"\n",
        "\n",
        "# Example usage\n",
        "name = input(\"Enter your name: \")\n",
        "print(greet(name))\n"
      ],
      "metadata": {
        "colab": {
          "base_uri": "https://localhost:8080/"
        },
        "id": "toiyuWa-5dpV",
        "outputId": "9e547219-c89f-4de7-bdf3-79cc2476b985"
      },
      "execution_count": null,
      "outputs": [
        {
          "output_type": "stream",
          "name": "stdout",
          "text": [
            "Enter your name: naim\n",
            "Hello, naim! Welcome!\n"
          ]
        }
      ]
    },
    {
      "cell_type": "code",
      "source": [],
      "metadata": {
        "id": "zLkE3Vhe5uEV"
      },
      "execution_count": null,
      "outputs": []
    },
    {
      "cell_type": "code",
      "source": [],
      "metadata": {
        "id": "BluciuBy6f7U"
      },
      "execution_count": null,
      "outputs": []
    },
    {
      "cell_type": "markdown",
      "source": [
        "#2 Write a Python program that Create a function that gives True if a string is empty and False otherwise. Try it for '' and '   5gh'"
      ],
      "metadata": {
        "id": "PRChNVbj6vul"
      }
    },
    {
      "cell_type": "code",
      "source": [
        "#Solution 1\n",
        "def check_string(s):\n",
        "  if s == \"\":\n",
        "    return True\n",
        "\n",
        "  else:\n",
        "    return False\n",
        "\n",
        "\n",
        "print(check_string(\"\"))\n"
      ],
      "metadata": {
        "colab": {
          "base_uri": "https://localhost:8080/"
        },
        "id": "tDUSGX7s5uHB",
        "outputId": "15683775-1fff-4b24-dc47-d2badbea202c"
      },
      "execution_count": null,
      "outputs": [
        {
          "output_type": "stream",
          "name": "stdout",
          "text": [
            "True\n"
          ]
        }
      ]
    },
    {
      "cell_type": "code",
      "source": [
        "#Solution 2\n",
        "def is_string_empty(s):\n",
        "    return s == ''\n",
        "\n",
        "# Example usage\n",
        "empty_string = ''\n",
        "non_empty_string = '   5gh'\n",
        "\n",
        "print(is_string_empty(empty_string))\n",
        "print(is_string_empty(non_empty_string))\n"
      ],
      "metadata": {
        "colab": {
          "base_uri": "https://localhost:8080/"
        },
        "id": "r_NpnNGA5uJV",
        "outputId": "26a810f2-34cd-4d0d-ace7-0958fdd94bc0"
      },
      "execution_count": null,
      "outputs": [
        {
          "output_type": "stream",
          "name": "stdout",
          "text": [
            "True\n",
            "False\n"
          ]
        }
      ]
    },
    {
      "cell_type": "code",
      "source": [],
      "metadata": {
        "id": "XVQ187DG5uL2"
      },
      "execution_count": null,
      "outputs": []
    },
    {
      "cell_type": "code",
      "source": [],
      "metadata": {
        "id": "bguyuUVA5uOY"
      },
      "execution_count": null,
      "outputs": []
    },
    {
      "cell_type": "markdown",
      "source": [
        "#3 Write a Python program that remove the extra spaces from the following string: ' I am        learning Python      bject        oriented     programming '"
      ],
      "metadata": {
        "id": "FpqFMZWfAbGs"
      }
    },
    {
      "cell_type": "code",
      "source": [
        "#Solution 1\n",
        "import re\n",
        "def clean_text(text):\n",
        "   return text\n",
        "\n",
        "\n",
        "text = ' I am        learning Python      bject        oriented     programming '\n",
        "clean_text=re.sub('  +',' ',text)\n",
        "print(clean_text(clean_text))"
      ],
      "metadata": {
        "colab": {
          "base_uri": "https://localhost:8080/"
        },
        "id": "6trkMW4L_bOD",
        "outputId": "60474709-297c-49cb-a4eb-8ea28a1b1295"
      },
      "execution_count": null,
      "outputs": [
        {
          "output_type": "stream",
          "name": "stdout",
          "text": [
            " I am learning Python bject oriented programming \n"
          ]
        }
      ]
    },
    {
      "cell_type": "code",
      "source": [
        "#Solution 2\n",
        "def remove_extra_spaces(s):\n",
        "    # Split the string into words and then join them with a single space\n",
        "    return ' '.join(s.split())\n",
        "\n",
        "# Example usage\n",
        "input_string = ' I am        learning Python      bject        oriented     programming '\n",
        "output_string = remove_extra_spaces(input_string)\n",
        "print(output_string)\n",
        "\n",
        "\n",
        "#This program splits the input string into words (which automatically removes any extra spaces)\n",
        "#and then joins those words back together with a single space in between each word"
      ],
      "metadata": {
        "colab": {
          "base_uri": "https://localhost:8080/"
        },
        "id": "4TGcUvUJ_bQz",
        "outputId": "e8d9101a-33a8-4f6a-e558-e392fa076871"
      },
      "execution_count": null,
      "outputs": [
        {
          "output_type": "stream",
          "name": "stdout",
          "text": [
            "I am learning Python bject oriented programming\n"
          ]
        }
      ]
    },
    {
      "cell_type": "code",
      "source": [],
      "metadata": {
        "id": "wG904sKV_bTV"
      },
      "execution_count": null,
      "outputs": []
    },
    {
      "cell_type": "code",
      "source": [],
      "metadata": {
        "id": "M1dTPGnA_bV2"
      },
      "execution_count": null,
      "outputs": []
    },
    {
      "cell_type": "markdown",
      "source": [
        "#4 Write a python program that reverse the case of string : string = \"I am a python developer\""
      ],
      "metadata": {
        "id": "RZHbgUZ5GVY5"
      }
    },
    {
      "cell_type": "code",
      "source": [
        "#Solution 1\n",
        "def reverse_case(s):\n",
        "\n",
        "  return s.swapcase()\n",
        "\n",
        "reverse_case(\"I am a python developer\")"
      ],
      "metadata": {
        "id": "RIaspXtvGUrL",
        "colab": {
          "base_uri": "https://localhost:8080/",
          "height": 36
        },
        "outputId": "b810e45c-b47a-44c7-cc7a-57283d411bf1"
      },
      "execution_count": null,
      "outputs": [
        {
          "output_type": "execute_result",
          "data": {
            "text/plain": [
              "'i AM A PYTHON DEVELOPER'"
            ],
            "application/vnd.google.colaboratory.intrinsic+json": {
              "type": "string"
            }
          },
          "metadata": {},
          "execution_count": 12
        }
      ]
    },
    {
      "cell_type": "code",
      "source": [
        "#Solution 2\n",
        "\n",
        "# Python code to reverse a string\n",
        "# using reversed()\n",
        "\n",
        "# Function to reverse a string\n",
        "def reverse(string):\n",
        "    string = \"\".join(reversed(string))\n",
        "    return string\n",
        "\n",
        "s = \"Naim ben alaya\"\n",
        "\n",
        "print(\"The original string is : \", end=\"\")\n",
        "print(s)\n",
        "\n",
        "print(f\"The reversed string(using reversed) is : {reverse(s)}\")"
      ],
      "metadata": {
        "id": "j6Wp2z26_bYY",
        "colab": {
          "base_uri": "https://localhost:8080/"
        },
        "outputId": "d1e0c19f-7c08-408f-dc59-43ca9c7dfa9f"
      },
      "execution_count": null,
      "outputs": [
        {
          "output_type": "stream",
          "name": "stdout",
          "text": [
            "The original string is : Naim ben alaya\n",
            "The reversed string(using reversed) is : ayala neb miaN\n"
          ]
        }
      ]
    },
    {
      "cell_type": "code",
      "source": [
        "#Solution 3\n",
        "\n",
        "# Define the string\n",
        "string = \"I am a python developer\"\n",
        "\n",
        "# Reverse the case and the order of each character in the string\n",
        "reversed_case_and_order_string = ''.join([string[::-1]])\n",
        "\n",
        "# Print the result\n",
        "print(reversed_case_and_order_string)"
      ],
      "metadata": {
        "id": "r7xHuK82_bbE",
        "colab": {
          "base_uri": "https://localhost:8080/"
        },
        "outputId": "803a0b80-591d-4e9f-f79f-27bf39f9a665"
      },
      "execution_count": null,
      "outputs": [
        {
          "output_type": "stream",
          "name": "stdout",
          "text": [
            "repoleved nohtyp a ma I\n"
          ]
        }
      ]
    },
    {
      "cell_type": "code",
      "source": [
        "#Solution 4\n",
        "def reversee(s):\n",
        "    str = \"\"\n",
        "    for i in s:\n",
        "        str = i + str\n",
        "    return str\n",
        "\n",
        "s = \"Club africain team\"\n",
        "\n",
        "print(\"The original string is : \", end=\"\")\n",
        "print(s)\n",
        "\n",
        "print(f\"The reversed string(using reversed) is : {reverse(s)}\")"
      ],
      "metadata": {
        "id": "FeQYER0p_bd5",
        "colab": {
          "base_uri": "https://localhost:8080/"
        },
        "outputId": "f21de1f5-797f-4a30-ee84-9ee2188494f1"
      },
      "execution_count": null,
      "outputs": [
        {
          "output_type": "stream",
          "name": "stdout",
          "text": [
            "The original string is : Club africain team\n",
            "The reversed string(using reversed) is : maet niacirfa bulC\n"
          ]
        }
      ]
    },
    {
      "cell_type": "code",
      "source": [],
      "metadata": {
        "id": "6SCTEOls_bgi"
      },
      "execution_count": null,
      "outputs": []
    },
    {
      "cell_type": "code",
      "source": [],
      "metadata": {
        "id": "RLKAV2xj_bjN"
      },
      "execution_count": null,
      "outputs": []
    },
    {
      "cell_type": "markdown",
      "source": [
        "#5 Display the number of letters in the string: my_word = \"Python is wonderful\""
      ],
      "metadata": {
        "id": "LdmVsQJGUups"
      }
    },
    {
      "cell_type": "code",
      "source": [
        "#Solution 1\n",
        "# Define the string\n",
        "my_word = \"Club africain 1920\"\n",
        "\n",
        "# Count the number of letters in the string\n",
        "number_of_letters = sum(1 for char in my_word if char.isalpha())\n",
        "\n",
        "# Print the result\n",
        "print(f\"Number of letters: {number_of_letters}\")"
      ],
      "metadata": {
        "id": "s6w50vsA_bmt",
        "colab": {
          "base_uri": "https://localhost:8080/"
        },
        "outputId": "ff553939-5ce1-41b5-f031-6a2dc65c8e3e"
      },
      "execution_count": null,
      "outputs": [
        {
          "output_type": "stream",
          "name": "stdout",
          "text": [
            "Number of letters: 12\n"
          ]
        }
      ]
    },
    {
      "cell_type": "code",
      "source": [
        "#Solution 2\n",
        "alpha,string=0,\"Geeks1234\"\n",
        "for i in string:\n",
        "    if (i.isalpha()):\n",
        "        alpha+=1\n",
        "print(\"Number of Digit is\", len(string)-alpha)\n",
        "print(f\"Number of Alphabets is { alpha}\")"
      ],
      "metadata": {
        "id": "iwknHpJd_cWd",
        "colab": {
          "base_uri": "https://localhost:8080/"
        },
        "outputId": "57efb2c2-6120-41ec-b261-fafa3a370064"
      },
      "execution_count": null,
      "outputs": [
        {
          "output_type": "stream",
          "name": "stdout",
          "text": [
            "Number of Digit is 4\n",
            "Number of Alphabets is 5\n"
          ]
        }
      ]
    },
    {
      "cell_type": "code",
      "source": [
        "#Solution 3\n",
        "def display_letter(s):\n",
        "    alpha = 0\n",
        "    for i in s:\n",
        "        if i.isalpha():\n",
        "            alpha += 1\n",
        "    return alpha\n",
        "\n",
        "# Calling the function and printing the result\n",
        "print(display_letter(\"ace 1010 eca\"))\n"
      ],
      "metadata": {
        "id": "XWzln8S7_cZO",
        "colab": {
          "base_uri": "https://localhost:8080/"
        },
        "outputId": "a405b0d2-ef16-4974-b81c-6e775aa203b6"
      },
      "execution_count": null,
      "outputs": [
        {
          "output_type": "stream",
          "name": "stdout",
          "text": [
            "6\n"
          ]
        }
      ]
    },
    {
      "cell_type": "code",
      "source": [],
      "metadata": {
        "id": "ITnn7CHX_cb5"
      },
      "execution_count": null,
      "outputs": []
    },
    {
      "cell_type": "code",
      "source": [],
      "metadata": {
        "id": "D4jJ2GZ3JaxW"
      },
      "execution_count": null,
      "outputs": []
    },
    {
      "cell_type": "markdown",
      "source": [
        "#6 Concatenate the following two strings together:\n",
        "# string_left = \"Spider\" string_right = \"man\""
      ],
      "metadata": {
        "id": "C13Dp6wVJcNa"
      }
    },
    {
      "cell_type": "code",
      "source": [
        "#Solution 1\n",
        "string_left = \"Spider\"\n",
        "string_right = \"man\"\n",
        "\n",
        "string =f\"{string_left}{string_right}\"\n",
        "print(string)"
      ],
      "metadata": {
        "id": "wLzWXZrN_cea",
        "colab": {
          "base_uri": "https://localhost:8080/"
        },
        "outputId": "c9ba8da3-7cf1-48de-ffcf-cca3b0d4342a"
      },
      "execution_count": null,
      "outputs": [
        {
          "output_type": "stream",
          "name": "stdout",
          "text": [
            "Spiderman\n"
          ]
        }
      ]
    },
    {
      "cell_type": "code",
      "source": [
        "#Solution 2\n",
        "string_left = \"Spider\"\n",
        "string_right = \"man\"\n",
        "\n",
        "print(string_left + string_right)"
      ],
      "metadata": {
        "id": "8sFymfI1_chD",
        "colab": {
          "base_uri": "https://localhost:8080/"
        },
        "outputId": "81db1679-cb1f-41ff-ed71-157abd1771b9"
      },
      "execution_count": null,
      "outputs": [
        {
          "output_type": "stream",
          "name": "stdout",
          "text": [
            "Spiderman\n"
          ]
        }
      ]
    },
    {
      "cell_type": "code",
      "source": [
        "#Solution 3\n",
        "def concatenate_strings(string_left, string_right):\n",
        "    return ''.join([string_left, string_right])\n",
        "\n",
        "string_left = \"Spider\"\n",
        "string_right = \"man\"\n",
        "\n",
        "result = concatenate_strings(string_left, string_right)\n",
        "print(result)\n"
      ],
      "metadata": {
        "id": "EezF5Ifi_cjt",
        "colab": {
          "base_uri": "https://localhost:8080/"
        },
        "outputId": "19be2f53-c739-4aca-a2ff-d2027e01b960"
      },
      "execution_count": null,
      "outputs": [
        {
          "output_type": "stream",
          "name": "stdout",
          "text": [
            "Spiderman\n"
          ]
        }
      ]
    },
    {
      "cell_type": "code",
      "source": [],
      "metadata": {
        "id": "OilADj0g_cmV"
      },
      "execution_count": null,
      "outputs": []
    },
    {
      "cell_type": "code",
      "source": [],
      "metadata": {
        "id": "kOH6CaFX_co4"
      },
      "execution_count": null,
      "outputs": []
    },
    {
      "cell_type": "markdown",
      "source": [
        "#7 Display two strings together, with a space in between\n",
        "#string_one = \"Python\"\n",
        "#string_two = \"Programming\""
      ],
      "metadata": {
        "id": "8uffnGAKLSS7"
      }
    },
    {
      "cell_type": "code",
      "source": [
        "#Solution 1\n",
        "string_one = \"Python\"\n",
        "string_two = \"Programming\"\n",
        "\n",
        "result = f\"{string_one} {string_two} \"\n",
        "print(result)"
      ],
      "metadata": {
        "id": "-LHaXV0Z_csR",
        "colab": {
          "base_uri": "https://localhost:8080/"
        },
        "outputId": "7cc2cfce-de20-461c-9a47-14793242ca8b"
      },
      "execution_count": null,
      "outputs": [
        {
          "output_type": "stream",
          "name": "stdout",
          "text": [
            "Python Programming \n"
          ]
        }
      ]
    },
    {
      "cell_type": "code",
      "source": [
        "#Solution 2\n",
        "def display_string(string_one, string_two):\n",
        "  return \" \".join([string_one, string_two])\n",
        "\n",
        "string_one = \"Python\"\n",
        "string_two = \"Programming\"\n",
        "\n",
        "result = (display_string(string_one, string_two))\n",
        "print(result)"
      ],
      "metadata": {
        "id": "TfVnHdby5uRB",
        "colab": {
          "base_uri": "https://localhost:8080/"
        },
        "outputId": "65b08708-bdca-484e-9dea-8200d22d88a7"
      },
      "execution_count": null,
      "outputs": [
        {
          "output_type": "stream",
          "name": "stdout",
          "text": [
            "Python Programming\n"
          ]
        }
      ]
    },
    {
      "cell_type": "code",
      "source": [],
      "metadata": {
        "id": "tCM8U7mg5uTn"
      },
      "execution_count": null,
      "outputs": []
    },
    {
      "cell_type": "code",
      "source": [],
      "metadata": {
        "id": "bhNs_KR95uWN"
      },
      "execution_count": null,
      "outputs": []
    },
    {
      "cell_type": "markdown",
      "source": [
        "#8 Use subscripting to display part of a string \"Python\""
      ],
      "metadata": {
        "id": "n5yF110rPrug"
      }
    },
    {
      "cell_type": "code",
      "source": [
        "\"\"\"\n",
        "--Subscript notation (also known as slicing) allows you to extract specific parts of a string in Python.\n",
        "--Here's how you can use it with the string \"Python\n",
        "\n",
        "\n",
        "\"\"\""
      ],
      "metadata": {
        "id": "IEKdgWQY5uYt",
        "colab": {
          "base_uri": "https://localhost:8080/",
          "height": 36
        },
        "outputId": "4db33167-aa08-43e7-b576-124c5cef797f"
      },
      "execution_count": null,
      "outputs": [
        {
          "output_type": "execute_result",
          "data": {
            "text/plain": [
              "'Subscript notation (also known as slicing) allows you to extract specific parts of a string in Python.\\n Here\\'s how you can use it with the string \"Python'"
            ],
            "application/vnd.google.colaboratory.intrinsic+json": {
              "type": "string"
            }
          },
          "metadata": {},
          "execution_count": 16
        }
      ]
    },
    {
      "cell_type": "markdown",
      "source": [
        "Explanation:\n",
        "\n",
        "**string[start:end]**: Extracts a substring starting at index start and ending just before index end.\n",
        "\n",
        "**string[:end]:** Extracts a substring from the beginning up to (but not including) index end.\n",
        "\n",
        "**string[start:]:** Extracts a substring starting from index start to the end of the string.\n",
        "\n",
        "**string[start:end:step]:** Extracts a substring with a specific ***step*** between indices. The ***step*** can be negative for reversing the string."
      ],
      "metadata": {
        "id": "YWv3yMrzRXRX"
      }
    },
    {
      "cell_type": "code",
      "source": [
        "string = \"Python\"\n",
        "result = string[0]\n",
        "print(result)\n"
      ],
      "metadata": {
        "id": "vlZ2laGf5ubJ",
        "colab": {
          "base_uri": "https://localhost:8080/"
        },
        "outputId": "e122782e-028c-4467-e507-84163594c3ef"
      },
      "execution_count": null,
      "outputs": [
        {
          "output_type": "stream",
          "name": "stdout",
          "text": [
            "P\n"
          ]
        }
      ]
    },
    {
      "cell_type": "code",
      "source": [
        "string = \"Python\"\n",
        "result = string[-1]\n",
        "print(result)\n"
      ],
      "metadata": {
        "id": "h9miFKfh5ud2",
        "colab": {
          "base_uri": "https://localhost:8080/"
        },
        "outputId": "de6d42c4-92c4-4c8b-fb87-0d0ccd29073c"
      },
      "execution_count": null,
      "outputs": [
        {
          "output_type": "stream",
          "name": "stdout",
          "text": [
            "n\n"
          ]
        }
      ]
    },
    {
      "cell_type": "code",
      "source": [
        "string = \"Python\"\n",
        "result = string[:3]\n",
        "print(result)\n"
      ],
      "metadata": {
        "id": "In257-lz5ugV",
        "colab": {
          "base_uri": "https://localhost:8080/"
        },
        "outputId": "1e245b6a-8c75-495a-ea27-2caa3cf58433"
      },
      "execution_count": null,
      "outputs": [
        {
          "output_type": "stream",
          "name": "stdout",
          "text": [
            "Pyt\n"
          ]
        }
      ]
    },
    {
      "cell_type": "code",
      "source": [
        "string = \"Python\"\n",
        "result = string[1:5]\n",
        "print(result)\n"
      ],
      "metadata": {
        "id": "fRbUv3G45ui_",
        "colab": {
          "base_uri": "https://localhost:8080/"
        },
        "outputId": "1f52f976-86b5-4386-cf72-8ffdef1b8f9f"
      },
      "execution_count": null,
      "outputs": [
        {
          "output_type": "stream",
          "name": "stdout",
          "text": [
            "ytho\n"
          ]
        }
      ]
    },
    {
      "cell_type": "code",
      "source": [
        "string = \"Python\"\n",
        "result = string[-3:]\n",
        "print(result)\n"
      ],
      "metadata": {
        "colab": {
          "base_uri": "https://localhost:8080/"
        },
        "id": "CI6QggvvRB9J",
        "outputId": "7b2b2408-f69f-4f33-a6a1-525bdf21f59e"
      },
      "execution_count": null,
      "outputs": [
        {
          "output_type": "stream",
          "name": "stdout",
          "text": [
            "hon\n"
          ]
        }
      ]
    },
    {
      "cell_type": "code",
      "source": [
        "string = \"Python\"\n",
        "result = string[::-1]\n",
        "print(result)\n"
      ],
      "metadata": {
        "colab": {
          "base_uri": "https://localhost:8080/"
        },
        "id": "UhmlE4hfRB_1",
        "outputId": "145d3bd8-3fa8-4fe3-c628-955aa34a65b3"
      },
      "execution_count": null,
      "outputs": [
        {
          "output_type": "stream",
          "name": "stdout",
          "text": [
            "nohtyP\n"
          ]
        }
      ]
    },
    {
      "cell_type": "code",
      "source": [
        "print(\"Python\"[2:6])"
      ],
      "metadata": {
        "colab": {
          "base_uri": "https://localhost:8080/"
        },
        "id": "Jj9eW4WfRCCX",
        "outputId": "e23b7637-dbc7-47fe-b79e-4d7903ffd674"
      },
      "execution_count": null,
      "outputs": [
        {
          "output_type": "stream",
          "name": "stdout",
          "text": [
            "thon\n"
          ]
        }
      ]
    },
    {
      "cell_type": "code",
      "source": [],
      "metadata": {
        "id": "qav0EwkQRCEz"
      },
      "execution_count": null,
      "outputs": []
    },
    {
      "cell_type": "code",
      "source": [],
      "metadata": {
        "id": "ugbvWk6acRE2"
      },
      "execution_count": null,
      "outputs": []
    },
    {
      "cell_type": "markdown",
      "source": [
        "#9 Switch the case of the following strings into lower case :\n",
        "string1 = \"Python\"\n",
        "string2 = \"Programming\"\n",
        "string3 = \"Language\""
      ],
      "metadata": {
        "id": "2dVu8msNcp6t"
      }
    },
    {
      "cell_type": "code",
      "source": [
        "string1 = \"Python\"\n",
        "string2 = \"Programming\"\n",
        "string3 = \"Language\"\n",
        "\n",
        "lower = f\"{string1.lower()}, {string2.lower()}, {string3.lower()}\"\n",
        "\n",
        "print(lower)"
      ],
      "metadata": {
        "colab": {
          "base_uri": "https://localhost:8080/"
        },
        "id": "TOg0yFfacRHi",
        "outputId": "413d7eb4-8b1c-44a6-8696-eb74ff554ff7"
      },
      "execution_count": null,
      "outputs": [
        {
          "output_type": "stream",
          "name": "stdout",
          "text": [
            "python, programming, language\n"
          ]
        }
      ]
    },
    {
      "cell_type": "code",
      "source": [
        "string1 = \"Python\".lower()\n",
        "string2 = \"Programming\".lower()\n",
        "string3 = \"Language\".lower()\n",
        "\n",
        "print(string1, string2, string3)\n"
      ],
      "metadata": {
        "colab": {
          "base_uri": "https://localhost:8080/"
        },
        "id": "Q1YQ9ZHxcRJ8",
        "outputId": "cb56e236-4720-4a42-d702-d9da6d9e84c9"
      },
      "execution_count": null,
      "outputs": [
        {
          "output_type": "stream",
          "name": "stdout",
          "text": [
            "python programming language\n"
          ]
        }
      ]
    },
    {
      "cell_type": "code",
      "source": [],
      "metadata": {
        "id": "9JpBwRLpcRMy"
      },
      "execution_count": null,
      "outputs": []
    },
    {
      "cell_type": "code",
      "source": [],
      "metadata": {
        "id": "BNeAkvTLcRPK"
      },
      "execution_count": null,
      "outputs": []
    },
    {
      "cell_type": "markdown",
      "source": [
        "#10Replace every occurrence of the character \"s\" with the character \"x\"\n",
        "\n",
        "phrase = \"Somebody said something to Sara.\""
      ],
      "metadata": {
        "id": "XgrSYCUTePVj"
      }
    },
    {
      "cell_type": "code",
      "source": [
        "string = \"Somebody said something to Sara.\"\n",
        "\n",
        "newtring = string.replace(\"s\",\"x\")\n",
        "\n",
        "print(newtring)"
      ],
      "metadata": {
        "colab": {
          "base_uri": "https://localhost:8080/"
        },
        "id": "V4816EzMcRRg",
        "outputId": "bb275375-e794-4a36-8930-b6fe93c354fb"
      },
      "execution_count": null,
      "outputs": [
        {
          "output_type": "stream",
          "name": "stdout",
          "text": [
            "Somebody xaid xomething to Sara.\n"
          ]
        }
      ]
    },
    {
      "cell_type": "code",
      "source": [
        "phrase = \"Somebody said something to Sara.\"\n",
        "new_phrase = phrase.replace(\"s\", \"x\").replace(\"S\", \"X\")\n",
        "\n",
        "print(new_phrase)\n"
      ],
      "metadata": {
        "colab": {
          "base_uri": "https://localhost:8080/"
        },
        "id": "jdG8lnAxcRT0",
        "outputId": "debafae4-b40a-468d-d70a-a1160bc51edb"
      },
      "execution_count": null,
      "outputs": [
        {
          "output_type": "stream",
          "name": "stdout",
          "text": [
            "Xomebody xaid xomething to Xara.\n"
          ]
        }
      ]
    },
    {
      "cell_type": "code",
      "source": [
        "def replace_s_with_x(phrase):\n",
        "    return phrase.replace(\"s\", \"x\").replace(\"S\", \"X\")\n",
        "\n",
        "# Example usage\n",
        "phrase = \"Somebody said something to Sara.\"\n",
        "new_phrase = replace_s_with_x(phrase)\n",
        "\n",
        "print(new_phrase)\n"
      ],
      "metadata": {
        "colab": {
          "base_uri": "https://localhost:8080/"
        },
        "id": "twqE3O8scRWF",
        "outputId": "bf09fec8-04cb-4a0e-d655-10c427497375"
      },
      "execution_count": null,
      "outputs": [
        {
          "output_type": "stream",
          "name": "stdout",
          "text": [
            "Xomebody xaid xomething to Xara.\n"
          ]
        }
      ]
    },
    {
      "cell_type": "code",
      "source": [],
      "metadata": {
        "id": "8y1N1bvaRCIY"
      },
      "execution_count": null,
      "outputs": []
    },
    {
      "cell_type": "code",
      "source": [],
      "metadata": {
        "id": "OTsA78Klf2y1"
      },
      "execution_count": null,
      "outputs": []
    },
    {
      "cell_type": "markdown",
      "source": [
        "In one of  Famous Coffee Mixer shops chain every 6 days with every day one cup\n",
        "\n",
        "of coffee customer buys, customer gets a 7th cup free in the weekend (Sunday)!\n",
        "\n",
        "#11 Create a Python program that takes numbers of cups bought and return the\n",
        "total number of cups that customer would get and also the number of  free cups for one month( for both 30 days & 31 days):"
      ],
      "metadata": {
        "id": "Dq_xi8FCgBT4"
      }
    },
    {
      "cell_type": "code",
      "source": [
        "def calculate_total_cups_and_free_cups(cups_per_day, days_in_month):\n",
        "  total_cups_bought = cups_per_day * days_in_month\n",
        "  weeks = days_in_month // 6\n",
        "  free_cups = weeks * cups_per_day\n",
        "\n",
        "\n",
        "  #calculate the total cups including free\n",
        "  total_cups = total_cups_bought + free_cups\n",
        "\n",
        "  return total_cups, free_cups\n",
        "\n",
        "cups_per_day = 1\n",
        "days_in_month_30 = 30\n",
        "days_in_month_31 = 31\n",
        "\n",
        "total_cups_30, free_cups_30 = calculate_total_cups_and_free_cups(cups_per_day, days_in_month_30)\n",
        "total_cups_31, free_cups_31 = calculate_total_cups_and_free_cups(cups_per_day, days_in_month_31)\n",
        "\n",
        "print(f\"For 30 days: Total cups = {total_cups_30}, Free cups = {free_cups_30}\")\n",
        "print(f\"For 31 days: Total cups = {total_cups_31}, Free cups = {free_cups_31}\")\n"
      ],
      "metadata": {
        "colab": {
          "base_uri": "https://localhost:8080/"
        },
        "id": "6_h1z2EPf21E",
        "outputId": "2f236a91-043d-4797-916a-102c5bd22cfb"
      },
      "execution_count": null,
      "outputs": [
        {
          "output_type": "stream",
          "name": "stdout",
          "text": [
            "For 30 days: Total cups = 35, Free cups = 5\n",
            "For 31 days: Total cups = 36, Free cups = 5\n"
          ]
        }
      ]
    },
    {
      "cell_type": "code",
      "source": [
        "\"\"\"Explanation:\n",
        "cups_per_day: The number of cups the customer buys each day.\n",
        "days_in_month: The number of days in the month (30 or 31).\n",
        "weeks: The number of full weeks in the month, calculated by dividing the total number of days by 7.\n",
        "free_cups: The total number of free cups earned (1 free cup for each week).\n",
        "total_cups: The total number of cups including both the bought and the free cups.\"\"\""
      ],
      "metadata": {
        "colab": {
          "base_uri": "https://localhost:8080/",
          "height": 70
        },
        "id": "tVGYu4TFf23z",
        "outputId": "5816d63a-dd1b-4bdb-80f0-795c3da89299"
      },
      "execution_count": null,
      "outputs": [
        {
          "output_type": "execute_result",
          "data": {
            "text/plain": [
              "'Explanation:\\ncups_per_day: The number of cups the customer buys each day.\\ndays_in_month: The number of days in the month (30 or 31).\\nweeks: The number of full weeks in the month, calculated by dividing the total number of days by 7.\\nfree_cups: The total number of free cups earned (1 free cup for each week).\\ntotal_cups: The total number of cups including both the bought and the free cups.'"
            ],
            "application/vnd.google.colaboratory.intrinsic+json": {
              "type": "string"
            }
          },
          "metadata": {},
          "execution_count": 9
        }
      ]
    },
    {
      "cell_type": "code",
      "source": [
        "def total_cups_cust(n):\n",
        "    return n // 6 + n\n",
        "\n",
        "def total_cups_gets_free(n):\n",
        "    return n // 6\n",
        "\n",
        "# For 30 days\n",
        "n = 30\n",
        "total_cups = total_cups_cust(n)\n",
        "free_cups = total_cups_gets_free(n)\n",
        "print('Total cups for 30 days =', total_cups)\n",
        "print('Free cups in 30 days =', free_cups)\n",
        "\n",
        "# For 31 days\n",
        "n = 31\n",
        "total_cups = total_cups_cust(n)\n",
        "free_cups = total_cups_gets_free(n)\n",
        "print(f\"Total cups for 31 days = {total_cups}\")\n",
        "print(f\"Free cups in 31 days' = {free_cups}\")\n"
      ],
      "metadata": {
        "colab": {
          "base_uri": "https://localhost:8080/"
        },
        "id": "KbDSq1Xnf26F",
        "outputId": "1e0cefa1-ed3a-480e-840a-bc04c9b0bc6e"
      },
      "execution_count": null,
      "outputs": [
        {
          "output_type": "stream",
          "name": "stdout",
          "text": [
            "Total cups for 30 days = 35\n",
            "Free cups in 30 days = 5\n",
            "Total cups for 31 days = 36\n",
            "Free cups in 31 days' = 5\n"
          ]
        }
      ]
    },
    {
      "cell_type": "code",
      "source": [
        "\"\"\"Explanation of the Corrected Code:\n",
        "total_cups_cust(n): This function correctly calculates the total cups, including the free ones.\n",
        "total_cups_gets_free(n): This function correctly calculates the free cups by dividing the number of days by 6, which is the number of cups needed to get one free cup.\n",
        "The code then calculates and prints the total cups and free cups for both 30-day and 31-day months.\"\"\""
      ],
      "metadata": {
        "colab": {
          "base_uri": "https://localhost:8080/",
          "height": 70
        },
        "id": "L9jrdkIdf28m",
        "outputId": "d38b346a-65e0-46ba-9154-83fe56ecbe5d"
      },
      "execution_count": null,
      "outputs": [
        {
          "output_type": "execute_result",
          "data": {
            "text/plain": [
              "'Explanation of the Corrected Code:\\ntotal_cups_cust(n): This function correctly calculates the total cups, including the free ones.\\ntotal_cups_gets_free(n): This function correctly calculates the free cups by dividing the number of days by 6, which is the number of cups needed to get one free cup.\\nThe code then calculates and prints the total cups and free cups for both 30-day and 31-day months.'"
            ],
            "application/vnd.google.colaboratory.intrinsic+json": {
              "type": "string"
            }
          },
          "metadata": {},
          "execution_count": 18
        }
      ]
    },
    {
      "cell_type": "code",
      "source": [],
      "metadata": {
        "id": "sYM1naorf2_D"
      },
      "execution_count": null,
      "outputs": []
    },
    {
      "cell_type": "code",
      "source": [],
      "metadata": {
        "id": "RUn2d9GcP0Bt"
      },
      "execution_count": null,
      "outputs": []
    },
    {
      "cell_type": "code",
      "source": [],
      "metadata": {
        "id": "7NGOzuETWkPK"
      },
      "execution_count": null,
      "outputs": []
    },
    {
      "cell_type": "markdown",
      "source": [
        "#12 Write a Python program to return the last item in a list ?\n",
        "\n",
        "x = [1,2,3,4,5,6,7,8,9,10]\n",
        "\n",
        "y = [10,20,30,40,50,60,70,80,90,100]\n",
        "\n",
        "z = [110,220,330,440,550,660,770,880,990]"
      ],
      "metadata": {
        "id": "jYLHXDhtVwdv"
      }
    },
    {
      "cell_type": "code",
      "source": [
        "def get_last_item(lst):\n",
        "    return lst[-1]\n",
        "\n",
        "x = [1, 2, 3, 4, 5, 6, 7, 8, 9, 10]\n",
        "y = [10, 20, 30, 40, 50, 60, 70, 80, 90, 100]\n",
        "z = [110, 220, 330, 440, 550, 660, 770, 880, 990]\n",
        "\n",
        "# Get the last item from each list\n",
        "last_x = get_last_item(x)\n",
        "last_y = get_last_item(y)\n",
        "last_z = get_last_item(z)\n",
        "\n",
        "print(f\"The last item in x is: {last_x}\")\n",
        "print(f\"The last item in y is: {last_y}\")\n",
        "print(f\"The last item in z is: {last_z}\")\n"
      ],
      "metadata": {
        "colab": {
          "base_uri": "https://localhost:8080/"
        },
        "id": "E49rH5nDP0EJ",
        "outputId": "3bef9afc-c45e-41b4-d3c5-0d402fb469e5"
      },
      "execution_count": null,
      "outputs": [
        {
          "output_type": "stream",
          "name": "stdout",
          "text": [
            "The last item in x is: 10\n",
            "The last item in y is: 100\n",
            "The last item in z is: 990\n"
          ]
        }
      ]
    },
    {
      "cell_type": "code",
      "source": [
        "\"\"\"Read all what in the page to undrestand the pop() methods more ==> https://www.w3schools.com/python/ref_list_pop.asp\"\"\"\n",
        "\n",
        "def get_last_item(lst):\n",
        "    return lst.pop()\n",
        "\n",
        "x = [1, 2, 3, 4, 5, 6, 7, 8, 9, 10]\n",
        "y = [10, 20, 30, 40, 50, 60, 70, 80, 90, 100]\n",
        "z = [110, 220, 330, 440, 550, 660, 770, 880, 990]\n",
        "\n",
        "# Get the last item from each list\n",
        "last_x = get_last_item(x)\n",
        "last_y = get_last_item(y)\n",
        "last_z = get_last_item(z)\n",
        "\n",
        "print(f\"The last item in x is: {last_x}\")\n",
        "print(f\"The last item in y is: {last_y}\")\n",
        "print(f\"The last item in z is: {last_z}\")\n"
      ],
      "metadata": {
        "colab": {
          "base_uri": "https://localhost:8080/"
        },
        "id": "j3amN2FAP0Gw",
        "outputId": "7efa1b57-4778-4114-953b-d0d2beaa7b4c"
      },
      "execution_count": null,
      "outputs": [
        {
          "output_type": "stream",
          "name": "stdout",
          "text": [
            "The last item in x is: 10\n",
            "The last item in y is: 100\n",
            "The last item in z is: 990\n"
          ]
        }
      ]
    },
    {
      "cell_type": "code",
      "source": [],
      "metadata": {
        "id": "VqS-4T-pP0JX"
      },
      "execution_count": null,
      "outputs": []
    },
    {
      "cell_type": "code",
      "source": [],
      "metadata": {
        "id": "x43jSVGRYmYE"
      },
      "execution_count": null,
      "outputs": []
    },
    {
      "cell_type": "markdown",
      "source": [
        "#13 Write a Python program to reverse a list."
      ],
      "metadata": {
        "id": "W77phcufXT8D"
      }
    },
    {
      "cell_type": "code",
      "source": [
        "def reverse_list(lst):\n",
        "  return lst[::-1]\n",
        "\n",
        "x = [1, 2, 3, 4, 5, 6, 7, 8, 9, 10]\n",
        "y = [10, 20, 30, 40, 50, 60, 70, 80, 90, 100]\n",
        "z = [110, 220, 330, 440, 550, 660, 770, 880, 990]\n",
        "\n",
        "# Get the last item from each list\n",
        "reverse_x = reverse_list(x)\n",
        "reverse_y = reverse_list(y)\n",
        "reverse_z = reverse_list(z)\n",
        "\n",
        "print(reverse_x)\n",
        "print(reverse_y)\n",
        "print(reverse_z)\n"
      ],
      "metadata": {
        "colab": {
          "base_uri": "https://localhost:8080/"
        },
        "id": "te29vOOuP0MA",
        "outputId": "6359e1ff-7b0c-46cd-e7a4-b4d65e3c5d47"
      },
      "execution_count": null,
      "outputs": [
        {
          "output_type": "stream",
          "name": "stdout",
          "text": [
            "[10, 9, 8, 7, 6, 5, 4, 3, 2, 1]\n",
            "[100, 90, 80, 70, 60, 50, 40, 30, 20, 10]\n",
            "[990, 880, 770, 660, 550, 440, 330, 220, 110]\n"
          ]
        }
      ]
    },
    {
      "cell_type": "code",
      "source": [
        "# Reversing a list using two-pointer approach\n",
        "def reverse_list(arr):\n",
        "    left = 0\n",
        "    right = len(arr)-1\n",
        "    while (left < right):\n",
        "        # Swap\n",
        "        temp = arr[left]\n",
        "        arr[left] = arr[right]\n",
        "        arr[right] = temp\n",
        "        left += 1\n",
        "        right -= 1\n",
        "\n",
        "    return arr\n",
        "\n",
        "arr = [1, 2, 3, 4, 5, 6, 7]\n",
        "print(reverse_list(arr))"
      ],
      "metadata": {
        "colab": {
          "base_uri": "https://localhost:8080/"
        },
        "id": "1K5Ku13zP0Os",
        "outputId": "cf04b068-4149-437a-8666-932ca9e824df"
      },
      "execution_count": null,
      "outputs": [
        {
          "output_type": "stream",
          "name": "stdout",
          "text": [
            "[7, 6, 5, 4, 3, 2, 1]\n"
          ]
        }
      ]
    },
    {
      "cell_type": "code",
      "source": [
        "\"\"\"The issue with the reverse_reversed function is that the reverse() method in Python does not return a new list or the reversed list.\n",
        "Instead, it reverses the list in place and returns None. As a result, when you call print(reverse_reversed(lst1)),\n",
        "it prints None instead of the reversed list.\"\"\""
      ],
      "metadata": {
        "id": "izjovlxUP0Rd"
      },
      "execution_count": null,
      "outputs": []
    },
    {
      "cell_type": "code",
      "source": [
        "def reverse_reversed(lst):\n",
        "    lst.reverse()  # Reverse the list in place\n",
        "    return lst  # Return the reversed list\n",
        "\n",
        "lst1 = [10, 11, 12, 13, 14, 15]\n",
        "\n",
        "print(reverse_reversed(lst1))\n"
      ],
      "metadata": {
        "colab": {
          "base_uri": "https://localhost:8080/"
        },
        "id": "_VMwZKULP0UC",
        "outputId": "a8290138-e3dc-4be0-ce77-e75b5e19f9e8"
      },
      "execution_count": null,
      "outputs": [
        {
          "output_type": "stream",
          "name": "stdout",
          "text": [
            "[15, 14, 13, 12, 11, 10]\n"
          ]
        }
      ]
    },
    {
      "cell_type": "code",
      "source": [
        "\"\"\"The reversed() function in Python is a built-in function that returns an iterator that accesses the given sequence in the reverse order.\n",
        "It does not modify the original list; instead, it allows you to iterate over the elements in reverse.\n",
        "If you want to return a reversed list,\n",
        "you'll need to convert the iterator returned by reversed() into a list.\"\"\""
      ],
      "metadata": {
        "id": "ki8q8f7weM32"
      },
      "execution_count": null,
      "outputs": []
    },
    {
      "cell_type": "code",
      "source": [
        "def reverse_reversed(lst):\n",
        "    return list(reversed(lst))  # Convert the iterator returned by reversed() into a list\n",
        "\n",
        "lst1 = [10, 11, 12, 13, 14, 15]\n",
        "\n",
        "print(reverse_reversed(lst1))\n"
      ],
      "metadata": {
        "id": "-BYXLGehP0Wr"
      },
      "execution_count": null,
      "outputs": []
    },
    {
      "cell_type": "code",
      "source": [],
      "metadata": {
        "id": "jkKGWrdFP0ZQ"
      },
      "execution_count": null,
      "outputs": []
    },
    {
      "cell_type": "code",
      "source": [],
      "metadata": {
        "id": "SH_BLpw6P0cu"
      },
      "execution_count": null,
      "outputs": []
    },
    {
      "cell_type": "markdown",
      "source": [
        "#14 Write a python program that return the difference between first and last items in a list?\n",
        "\n",
        "a = [110,140,170,200,230,260,290,320,350,380,410,440,470,500]"
      ],
      "metadata": {
        "id": "Wvcm4njYeppt"
      }
    },
    {
      "cell_type": "code",
      "source": [
        "def first_diff_last(lst):\n",
        "  diff = lst[-1] - lst[0]\n",
        "  return diff\n",
        "\n",
        "result =  [110,140,170,200,230,260,290,320,350,380,410,440,470,500]\n",
        "\n",
        "print(first_diff_last(result))\n",
        "\n"
      ],
      "metadata": {
        "id": "fiqmiFA1f3CX",
        "colab": {
          "base_uri": "https://localhost:8080/"
        },
        "outputId": "c871f78e-d7e5-4dbf-c790-d0bfe7f9af2a"
      },
      "execution_count": null,
      "outputs": [
        {
          "output_type": "stream",
          "name": "stdout",
          "text": [
            "390\n"
          ]
        }
      ]
    },
    {
      "cell_type": "code",
      "source": [
        "def last_minus_frist(lst):\n",
        "\n",
        "    return lst[-1]-lst[0]\n",
        "\n",
        "a =[110,140,170,200,230,260,290,320,350,380,410,440,470,500]\n",
        "\n",
        "last_minus_frist(a)"
      ],
      "metadata": {
        "id": "5K2tlCwR5uml",
        "colab": {
          "base_uri": "https://localhost:8080/"
        },
        "outputId": "7c294d9d-383b-4829-b3d2-d9f14d764298"
      },
      "execution_count": null,
      "outputs": [
        {
          "output_type": "execute_result",
          "data": {
            "text/plain": [
              "390"
            ]
          },
          "metadata": {},
          "execution_count": 27
        }
      ]
    },
    {
      "cell_type": "code",
      "source": [],
      "metadata": {
        "id": "KOlvAnAhf6wO"
      },
      "execution_count": null,
      "outputs": []
    },
    {
      "cell_type": "code",
      "source": [],
      "metadata": {
        "id": "bjjltzylrFja"
      },
      "execution_count": null,
      "outputs": []
    },
    {
      "cell_type": "markdown",
      "source": [
        "#15 Write a python program that return the sum of the absolute value of each element of a list :\n",
        "\n",
        "x = [10,20,30,40,50]"
      ],
      "metadata": {
        "id": "26cyGRB7rJDH"
      }
    },
    {
      "cell_type": "code",
      "source": [
        "def abs_value(lst):\n",
        "  for i in range (len(lst) - 1 ):\n",
        "    i +=1\n",
        "    return sum(lst)\n",
        "x = [10,20,30,40,50]\n",
        "print(abs_value(x))"
      ],
      "metadata": {
        "colab": {
          "base_uri": "https://localhost:8080/"
        },
        "id": "z3PXBtlyrFom",
        "outputId": "68a0d896-2c30-4278-b129-ed28ac6c4f2f"
      },
      "execution_count": 8,
      "outputs": [
        {
          "output_type": "stream",
          "name": "stdout",
          "text": [
            "150\n"
          ]
        }
      ]
    },
    {
      "cell_type": "code",
      "source": [
        "def sum_of_absolute_values(lst):\n",
        "    return sum(abs(x) for x in lst)\n",
        "\n",
        "# Example usage:\n",
        "numbers = [-3, -7, 2, 10, -5]\n",
        "result = sum_of_absolute_values(numbers)\n",
        "print(\"The sum of absolute values is:\", result)\n"
      ],
      "metadata": {
        "colab": {
          "base_uri": "https://localhost:8080/"
        },
        "id": "egdeL7uIrFrR",
        "outputId": "456df8ee-07af-42a6-d98a-647dba3cb1ce"
      },
      "execution_count": 9,
      "outputs": [
        {
          "output_type": "stream",
          "name": "stdout",
          "text": [
            "The sum of absolute values is: 27\n"
          ]
        }
      ]
    },
    {
      "cell_type": "code",
      "source": [
        "def sum_of_absolute_values(lst):\n",
        "    total = 0\n",
        "    for x in lst:\n",
        "        total += abs(x)\n",
        "    return total\n",
        "\n",
        "# Example usage:\n",
        "numbers = [10,20,30,40,50]\n",
        "result = sum_of_absolute_values(numbers)\n",
        "print(f\"The sum of absolute values is: {result}\")\n"
      ],
      "metadata": {
        "colab": {
          "base_uri": "https://localhost:8080/"
        },
        "id": "-Z8adI-nrFuT",
        "outputId": "fb2cd21c-08a1-4c9a-c1a3-4466cd593045"
      },
      "execution_count": 11,
      "outputs": [
        {
          "output_type": "stream",
          "name": "stdout",
          "text": [
            "The sum of absolute values is: 150\n"
          ]
        }
      ]
    },
    {
      "cell_type": "code",
      "source": [],
      "metadata": {
        "id": "vOc8_h4GrFw0"
      },
      "execution_count": null,
      "outputs": []
    },
    {
      "cell_type": "code",
      "source": [],
      "metadata": {
        "id": "vBWbsS7YrFzX"
      },
      "execution_count": null,
      "outputs": []
    },
    {
      "cell_type": "markdown",
      "source": [
        "#16 Write a python program that Return the largest number in the list.\n",
        "x = [10,20,30,40,50,60,70,80,90,100]"
      ],
      "metadata": {
        "id": "oP9uG1oFtXCg"
      }
    },
    {
      "cell_type": "code",
      "source": [
        "def large_num(lst):\n",
        "  return max(lst)\n",
        "\n",
        "x = [50,20,30,40,50,60,200,80,90,100]\n",
        "print(large_num(x))"
      ],
      "metadata": {
        "colab": {
          "base_uri": "https://localhost:8080/"
        },
        "id": "_rzF0NGbrF17",
        "outputId": "04ac4756-bd3a-45da-fde4-cc5290cfd6b2"
      },
      "execution_count": 40,
      "outputs": [
        {
          "output_type": "stream",
          "name": "stdout",
          "text": [
            "200\n"
          ]
        }
      ]
    },
    {
      "cell_type": "code",
      "source": [
        "def find_largest_number(lst):\n",
        "    if len(lst) == 0:\n",
        "        return None  # Handle the case where the list is empty\n",
        "    largest = lst[0]\n",
        "    for num in lst:\n",
        "        if num > largest:\n",
        "            largest = num\n",
        "    return largest\n",
        "\n",
        "# Example usage:\n",
        "numbers = [50,20,30,40,50,60,200,80,90,100]\n",
        "result = find_largest_number(numbers)\n",
        "print(\"The largest number is:\", result)\n"
      ],
      "metadata": {
        "colab": {
          "base_uri": "https://localhost:8080/"
        },
        "id": "D4FSs85qtalA",
        "outputId": "8f060c00-1f8e-4e8d-ddaa-b63103a84c21"
      },
      "execution_count": 42,
      "outputs": [
        {
          "output_type": "stream",
          "name": "stdout",
          "text": [
            "The largest number is: 200\n"
          ]
        }
      ]
    },
    {
      "cell_type": "code",
      "source": [],
      "metadata": {
        "id": "OTa9CEA7tann"
      },
      "execution_count": null,
      "outputs": []
    },
    {
      "cell_type": "code",
      "source": [],
      "metadata": {
        "id": "y7BW7XK7taqR"
      },
      "execution_count": null,
      "outputs": []
    },
    {
      "cell_type": "markdown",
      "source": [
        "#16 Write a Python program that accepts a list and returns the last item in the list.\n",
        "\n",
        "\n",
        "Try it for the following list:\n",
        "x= [ 1,2,3,4,5,'a','b','c','d','e']"
      ],
      "metadata": {
        "id": "AMw5KMJWzt3X"
      }
    },
    {
      "cell_type": "code",
      "source": [
        "def last_item(lst):\n",
        "  return lst[-1]\n",
        "x= [ 1,2,3,4,5,'a','b','c','d','e']\n",
        "\n",
        "print(last_item(x))\n"
      ],
      "metadata": {
        "colab": {
          "base_uri": "https://localhost:8080/"
        },
        "id": "strelgCazs-Z",
        "outputId": "94d657eb-1c20-464b-c27e-de833f1321df"
      },
      "execution_count": 47,
      "outputs": [
        {
          "output_type": "stream",
          "name": "stdout",
          "text": [
            "e\n"
          ]
        }
      ]
    },
    {
      "cell_type": "code",
      "source": [],
      "metadata": {
        "id": "8nG0nB0HztBH"
      },
      "execution_count": null,
      "outputs": []
    },
    {
      "cell_type": "code",
      "source": [],
      "metadata": {
        "id": "0G_ntIQIztDq"
      },
      "execution_count": null,
      "outputs": []
    },
    {
      "cell_type": "code",
      "source": [],
      "metadata": {
        "id": "JHA_jO3SztHE"
      },
      "execution_count": null,
      "outputs": []
    },
    {
      "cell_type": "code",
      "source": [],
      "metadata": {
        "id": "abYbUvTvtase"
      },
      "execution_count": null,
      "outputs": []
    },
    {
      "cell_type": "code",
      "source": [],
      "metadata": {
        "id": "5YHNIZ_QrF5V"
      },
      "execution_count": null,
      "outputs": []
    }
  ]
}